{
 "cells": [
  {
   "cell_type": "code",
   "execution_count": 2,
   "id": "a6b50cf7",
   "metadata": {},
   "outputs": [],
   "source": [
    "import h5py\n",
    "\n",
    "import matplotlib.pyplot as plt\n",
    "import numpy as np\n",
    "\n",
    "from lr_utils import load_dataset\n",
    "train_set_x_orig, train_set_y, test_set_x_orig, test_set_y, classes = load_dataset()\n",
    "test_set_x_flatten = test_set_x_orig.reshape(test_set_x_orig.shape[0], -1).T\n",
    "train_set_x_flatten = train_set_x_orig.reshape(train_set_x_orig.shape[0], -1).T\n",
    "test_set_x = test_set_x_flatten/255\n",
    "train_set_x = train_set_x_flatten/255"
   ]
  },
  {
   "cell_type": "code",
   "execution_count": null,
   "id": "3e1368e5",
   "metadata": {},
   "outputs": [],
   "source": [
    "for i in range(0,50):\n",
    "    index=i\n",
    "    plt.imshow(test_set_x[:,index].reshape((train_set_x_orig.shape[1],train_set_x_orig.shape[1],3)))\n",
    "    plt.show()"
   ]
  },
  {
   "cell_type": "code",
   "execution_count": 3,
   "id": "a3adcb48",
   "metadata": {},
   "outputs": [],
   "source": [
    "def sigmoid(z):\n",
    "    s=1/(1+np.exp(-z))\n",
    "    return s\n",
    "    "
   ]
  },
  {
   "cell_type": "code",
   "execution_count": 4,
   "id": "1d3fa7df",
   "metadata": {},
   "outputs": [],
   "source": [
    "def initialize_with_zeros(dim):\n",
    "    w=np.zeros((dim,1))\n",
    "    b=0\n",
    "    assert(w.shape == (dim, 1))\n",
    "    assert(isinstance(b, float) or isinstance(b, int))\n",
    "    return w,b"
   ]
  },
  {
   "cell_type": "code",
   "execution_count": null,
   "id": "e8e16f35",
   "metadata": {},
   "outputs": [],
   "source": []
  },
  {
   "cell_type": "code",
   "execution_count": 5,
   "id": "30776a05",
   "metadata": {},
   "outputs": [],
   "source": [
    "def propagate(w,b,X,Y):\n",
    "    m=X.shape[1]\n",
    "    z=np.dot(w.T,X)+b\n",
    "    A=sigmoid(z)\n",
    "    cost=-(np.dot(Y,np.log(A).T)+np.dot(1-Y,np.log(1-A).T))/m\n",
    "    dw=np.dot(X,(A-Y).T)/m\n",
    "    db=np.sum(A-Y)/m\n",
    "    grads={\"dw\":dw,\"db\":db}\n",
    "    cost=np.squeeze(cost)\n",
    "    return grads,cost"
   ]
  },
  {
   "cell_type": "code",
   "execution_count": 6,
   "id": "fe89b2a2",
   "metadata": {},
   "outputs": [],
   "source": [
    "def optimize(w,b,X,Y,num_item,learning_rate):\n",
    "    costs=[]\n",
    "    for i in range(num_item):\n",
    "        grads,cost=propagate(w,b,X,Y)\n",
    "        dw=grads['dw']\n",
    "        db=grads['db']\n",
    "        w=w-learning_rate*dw\n",
    "        b=b-learning_rate*db\n",
    "        if i%1000==0:\n",
    "            costs.append(cost)\n",
    "            print(cost)\n",
    "    \n",
    "    params={'w':w,'b':b}\n",
    "    grads={'dw':dw,'db':db}\n",
    "    return params,grads,costs"
   ]
  },
  {
   "cell_type": "code",
   "execution_count": 7,
   "id": "1da5d527",
   "metadata": {},
   "outputs": [],
   "source": [
    "def prediction(w,b,X):\n",
    "    m=X.shape[1]\n",
    "    Y_pred=np.zeros((1,m))\n",
    "    w=w.reshape(X.shape[0],1)\n",
    "    A=sigmoid(np.dot(w.T,X)+b)\n",
    "    for i in range(A.shape[1]):\n",
    "        if A[0][i]<=0.5:\n",
    "            A[0][i]=0\n",
    "        else:\n",
    "            A[0][i]=1\n",
    "    Y_pred=A\n",
    "    return Y_pred\n",
    "    "
   ]
  },
  {
   "cell_type": "code",
   "execution_count": 10,
   "id": "51a1950a",
   "metadata": {},
   "outputs": [],
   "source": [
    "def model(X_train,X_test,Y_train,Y_test,num_item=20000,learning_rate=0.005):\n",
    "    w,b=initialize_with_zeros(X_train.shape[0])\n",
    "    parameters,grads,costs=optimize(w,b,X_train,Y_train,num_item,learning_rate)\n",
    "    w=parameters['w']\n",
    "    b=parameters['b']\n",
    "    Y_prediction_test=prediction(w,b,X_test)\n",
    "    Y_prediction_train=prediction(w,b,X_train)\n",
    "    print('train accuracy:{}%'.format(100-np.mean(np.abs(Y_prediction_train-train_set_y)*100)))\n",
    "    print('test accuracy:{}%'.format(100-np.mean(np.abs(Y_prediction_test-test_set_y)*100)))    \n",
    "    \n",
    "    d={'costs':costs,\n",
    "       \"Y_prediction_test\":Y_prediction_test,\n",
    "       \"Y_prediction_train\":Y_prediction_train,\n",
    "       \"w\":w,\n",
    "       \"b\":b,\n",
    "       'learning_rate':learning_rate,\n",
    "       \"num_item\":num_item\n",
    "       }\n",
    "    return d"
   ]
  },
  {
   "cell_type": "code",
   "execution_count": 11,
   "id": "53748381",
   "metadata": {},
   "outputs": [
    {
     "name": "stdout",
     "output_type": "stream",
     "text": [
      "0.6931471805599453\n",
      "0.2148195137844964\n",
      "0.13560807525912016\n",
      "0.09828023699678214\n",
      "0.07666171187034185\n",
      "0.06263144008882937\n",
      "0.05282432770019416\n",
      "0.04560088172969223\n",
      "0.040069430506331674\n",
      "0.03570434514226789\n",
      "0.03217611847083888\n",
      "0.02926793573633382\n",
      "0.02683144033883118\n",
      "0.024761787385389915\n",
      "0.022982844835036747\n",
      "0.021438036452545012\n",
      "0.020084470035625072\n",
      "0.018889055384854907\n",
      "0.01782586879741676\n",
      "0.016874321759048974\n",
      "train accuracy:100.0%\n",
      "test accuracy:72.0%\n"
     ]
    },
    {
     "data": {
      "image/png": "[encoded data removed]",
      "text/plain": [
       "<Figure size 640x480 with 1 Axes>"
      ]
     },
     "metadata": {},
     "output_type": "display_data"
    }
   ],
   "source": [
    "d=model(train_set_x,test_set_x,train_set_y,test_set_y)\n",
    "costs=np.squeeze(d['costs'])\n",
    "plt.plot(costs)\n",
    "plt.ylabel('cost')\n",
    "plt.xlabel('num_item per 100')\n",
    "plt.title(\"learing rate = \"+str(d['learning_rate']))\n",
    "plt.show()"
   ]
  },
  {
   "cell_type": "code",
   "execution_count": null,
   "id": "3226beca",
   "metadata": {},
   "outputs": [],
   "source": []
  },
  {
   "cell_type": "code",
   "execution_count": null,
   "id": "4476cdb5",
   "metadata": {},
   "outputs": [],
   "source": []
  }
 ],
 "metadata": {
  "kernelspec": {
   "display_name": "Python 3.8.13 ('pytorch')",
   "language": "python",
   "name": "python3"
  },
  "language_info": {
   "codemirror_mode": {
    "name": "ipython",
    "version": 3
   },
   "file_extension": ".py",
   "mimetype": "text/x-python",
   "name": "python",
   "nbconvert_exporter": "python",
   "pygments_lexer": "ipython3",
   "version": "3.8.13"
  },
  "vscode": {
   "interpreter": {
    "hash": "f28104d83f364164a14023df7a8da16cfc0355892cfe84fa9cb246c3ca2d1159"
   }
  }
 },
 "nbformat": 4,
 "nbformat_minor": 5
}
