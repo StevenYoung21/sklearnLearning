{
 "cells": [
  {
   "cell_type": "markdown",
   "metadata": {},
   "source": [
    "# 多种机器学习模型对量子点发光材料色温的预测"
   ]
  },
  {
   "cell_type": "markdown",
   "metadata": {},
   "source": [
    "## 1. 依赖注入"
   ]
  },
  {
   "cell_type": "code",
   "execution_count": 1,
   "metadata": {},
   "outputs": [],
   "source": [
    "import numpy as np\n",
    "import pandas as pd\n",
    "from pandas import read_csv\n",
    "from sklearn.impute import SimpleImputer\n",
    "from sklearn.preprocessing import StandardScaler \n",
    "from sklearn.ensemble import GradientBoostingRegressor\n",
    "from sklearn.ensemble import RandomForestRegressor\n",
    "from sklearn.metrics import mean_squared_error,r2_score\n",
    "from sklearn.model_selection import KFold\n",
    "from sklearn.model_selection import RepeatedKFold\n",
    "from sklearn.neural_network import MLPRegressor\n",
    "import matplotlib.pylab as plt\n",
    "import matplotlib.transforms as mtransforms\n",
    "import matplotlib.lines as mlines\n",
    "import xgboost as xgb\n",
    "from sklearn.metrics import mean_absolute_error"
   ]
  },
  {
   "cell_type": "markdown",
   "metadata": {},
   "source": [
    "## 2. 数据处理"
   ]
  },
  {
   "cell_type": "code",
   "execution_count": 2,
   "metadata": {},
   "outputs": [],
   "source": [
    "# 读取数据\n",
    "train_dev_set = read_csv('./ELCIE_traindev.csv',dtype=np.float32)\n",
    "test_set = read_csv('./ELCIE_test.csv',dtype=np.float32)\n",
    "\n",
    "# 原始数据\n",
    "train_dev_data_orig = train_dev_set.values\n",
    "test_data_orig = test_set.values\n",
    "\n",
    "# 填充缺失值(默认使用平均值填充)\n",
    "imputation = SimpleImputer()\n",
    "train_dev_data_impute = imputation.fit_transform(train_dev_data_orig)\n",
    "test_data_impute = imputation.fit_transform(test_data_orig)\n",
    "\n",
    "# 标准化\n",
    "scaler = StandardScaler().fit(train_dev_data_impute[:,1:])\n",
    "train_dev_X = scaler.transform(train_dev_data_impute[:,1:])\n",
    "train_dev_y = train_dev_data_impute[:,0]\n",
    "test_X = scaler.transform(test_data_impute[:,1:])\n",
    "test_y = test_data_impute[:,0]"
   ]
  },
  {
   "cell_type": "markdown",
   "metadata": {},
   "source": [
    "## 3. 实例化模型"
   ]
  },
  {
   "cell_type": "code",
   "execution_count": 3,
   "metadata": {},
   "outputs": [],
   "source": [
    "# 1. MLP\n",
    "model_mlp = MLPRegressor(hidden_layer_sizes=(6, ),\n",
    "                         activation='relu',\n",
    "                         solver='lbfgs',\n",
    "                         alpha=10**2,\n",
    "                         batch_size='auto',\n",
    "                         learning_rate='invscaling',\n",
    "                         learning_rate_init=0.011231871,\n",
    "                         power_t=0.5,\n",
    "                         max_iter=1000,\n",
    "                         shuffle=True,\n",
    "                         random_state=0,\n",
    "                         tol=0.01,\n",
    "                         verbose=False,\n",
    "                         warm_start=False,\n",
    "                         momentum=0.9,\n",
    "                         nesterovs_momentum=True,\n",
    "                         early_stopping=False,\n",
    "                         beta_1=0.9,\n",
    "                         beta_2=0.999,\n",
    "                         epsilon=1e-08)"
   ]
  },
  {
   "cell_type": "code",
   "execution_count": 4,
   "metadata": {},
   "outputs": [],
   "source": [
    "# 2. xgboost\n",
    "model_xgb = xgb.XGBRegressor(base_score=0.5, \n",
    "                             booster='gbtree',\n",
    "                             colsample_bylevel=1,\n",
    "                             colsample_bynode=1,\n",
    "                             colsample_bytree=1,\n",
    "                             enable_categorical=False,\n",
    "                             gamma=0,\n",
    "                             learning_rate=0.300000012,\n",
    "                             max_delta_step=0,\n",
    "                             max_depth=6,\n",
    "                             min_child_weight=1,\n",
    "                             n_estimators=100,\n",
    "                             num_parallel_tree=1, \n",
    "                             predictor='auto',\n",
    "                             random_state=0,\n",
    "                             reg_alpha=0,\n",
    "                             reg_lambda=1,\n",
    "                             scale_pos_weight=1,\n",
    "                             subsample=1,\n",
    "                             tree_method='hist',\n",
    "                             validate_parameters=1)"
   ]
  },
  {
   "cell_type": "code",
   "execution_count": 8,
   "metadata": {},
   "outputs": [],
   "source": [
    "# 3. GBDT\n",
    "model_gbdt = GradientBoostingRegressor(alpha=0.9,\n",
    "                          ccp_alpha=0.0,\n",
    "                          criterion='friedman_mse',\n",
    "                          init=None,\n",
    "                          learning_rate=0.1,\n",
    "                          loss='ls',\n",
    "                          max_depth=3,\n",
    "                          max_features=None,\n",
    "                          max_leaf_nodes=None,\n",
    "                          min_impurity_decrease=0.0,\n",
    "                        #   min_impurity_split=None,\n",
    "                          min_samples_leaf=1,\n",
    "                          min_samples_split=2,\n",
    "                          min_weight_fraction_leaf=0.0,\n",
    "                          n_estimators=100,\n",
    "                          n_iter_no_change=None,\n",
    "                        #   presort='deprecated',\n",
    "                          random_state=201,\n",
    "                          subsample=1.0,\n",
    "                          tol=0.0001,\n",
    "                          validation_fraction=0.1,\n",
    "                          verbose=0,\n",
    "                          warm_start=False\n",
    "                          )"
   ]
  },
  {
   "cell_type": "markdown",
   "metadata": {},
   "source": [
    "## 4. 模型训练"
   ]
  },
  {
   "cell_type": "code",
   "execution_count": 9,
   "metadata": {},
   "outputs": [
    {
     "name": "stderr",
     "output_type": "stream",
     "text": [
      "c:\\ProgramData\\Miniconda3\\lib\\site-packages\\sklearn\\ensemble\\_gb.py:290: FutureWarning: The loss 'ls' was deprecated in v1.0 and will be removed in version 1.2. Use 'squared_error' which is equivalent.\n",
      "  FutureWarning,\n"
     ]
    },
    {
     "data": {
      "text/plain": [
       "XGBRegressor(base_score=0.5, booster='gbtree', colsample_bylevel=1,\n",
       "             colsample_bynode=1, colsample_bytree=1, enable_categorical=False,\n",
       "             gamma=0, gpu_id=-1, importance_type=None,\n",
       "             interaction_constraints='', learning_rate=0.300000012,\n",
       "             max_delta_step=0, max_depth=6, min_child_weight=1, missing=nan,\n",
       "             monotone_constraints='()', n_estimators=100, n_jobs=12,\n",
       "             num_parallel_tree=1, predictor='auto', random_state=0, reg_alpha=0,\n",
       "             reg_lambda=1, scale_pos_weight=1, subsample=1, tree_method='hist',\n",
       "             validate_parameters=1, verbosity=None)"
      ]
     },
     "execution_count": 9,
     "metadata": {},
     "output_type": "execute_result"
    }
   ],
   "source": [
    "model_mlp.fit(train_dev_X, train_dev_y)\n",
    "model_gbdt.fit(train_dev_X, train_dev_y)\n",
    "model_xgb.fit(train_dev_X, train_dev_y)"
   ]
  },
  {
   "cell_type": "markdown",
   "metadata": {},
   "source": [
    "## 5. 预测"
   ]
  },
  {
   "cell_type": "code",
   "execution_count": 12,
   "metadata": {},
   "outputs": [
    {
     "name": "stdout",
     "output_type": "stream",
     "text": [
      "mae_train: 69.07843288596466\n",
      "mae_test: 98.81227782850458\n",
      "rmse_train: 165.7308723150209\n",
      "rmse_test: 215.01699162405987\n",
      "r2_score_train: 0.9896002623540485\n",
      "r2_score_test: 0.9903036991467322\n"
     ]
    }
   ],
   "source": [
    "# 选择模型\n",
    "model = model_mlp\n",
    "# model = model_gbdt\n",
    "# model = model_rf\n",
    "# model = model_xgb\n",
    "\n",
    "# 预测结果\n",
    "pre_train = model.predict(train_dev_X)\n",
    "pre_test = model.predict(test_X)\n",
    "\n",
    "# 计算mae\n",
    "mae_train = abs(pre_train - train_dev_y).mean()\n",
    "mae_test = abs(pre_test - test_y).mean()\n",
    "\n",
    "# 计算rmse\n",
    "rmse_train = np.sqrt(mean_squared_error(train_dev_y, pre_train))\n",
    "rmse_test = np.sqrt(mean_squared_error(test_y, pre_test))\n",
    "\n",
    "# 计算R squred\n",
    "r2_score_train = r2_score(train_dev_y, pre_train)\n",
    "r2_score_test = r2_score(test_y, pre_test)\n",
    "\n",
    "print('mae_train:',mae_train)\n",
    "print('mae_test:',mae_test)\n",
    "print('rmse_train:',rmse_train)\n",
    "print('rmse_test:',rmse_test)\n",
    "print('r2_score_train:',r2_score_train)\n",
    "print('r2_score_test:',r2_score_test)"
   ]
  },
  {
   "cell_type": "markdown",
   "metadata": {},
   "source": [
    "## 6. 可视化"
   ]
  },
  {
   "cell_type": "code",
   "execution_count": 13,
   "metadata": {},
   "outputs": [
    {
     "data": {
      "image/png": "[encoded data removed]",
      "text/plain": [
       "<Figure size 432x360 with 1 Axes>"
      ]
     },
     "metadata": {
      "needs_background": "light"
     },
     "output_type": "display_data"
    }
   ],
   "source": [
    "fig, ax = plt.subplots(figsize=(6, 5))\n",
    "plt.axis([2000, 15000, 2000, 15000])\n",
    "ax.scatter(pre_train, train_dev_y, color=\"green\", label=\"Train Samples\")\n",
    "ax.scatter(pre_test, test_y, color=\"red\", label=\"Test Samples\")\n",
    "line = mlines.Line2D([0, 1], [0, 1], color='black', linewidth=2)\n",
    "transform = ax.transAxes\n",
    "line.set_transform(transform)\n",
    "ax.add_line(line)\n",
    "plt.xlabel('predictions')\n",
    "plt.ylabel('True Values')\n",
    "plt.legend()\n",
    "plt.show()"
   ]
  },
  {
   "cell_type": "markdown",
   "metadata": {},
   "source": [
    "## 7. 交叉验证"
   ]
  },
  {
   "cell_type": "markdown",
   "metadata": {},
   "source": [
    "交叉验证，顾名思义，就是重复的使用数据，把得到的样本数据进行切分，组合为不同的训练集和测试集，用训练集来训练模型，用测试集来评估模型预测的好坏。"
   ]
  },
  {
   "cell_type": "code",
   "execution_count": 14,
   "metadata": {},
   "outputs": [
    {
     "name": "stdout",
     "output_type": "stream",
     "text": [
      "mae_train: 67.02613560081123\n",
      "mae_dev: 131.3120567181681\n",
      "rmse_train: 153.91466280706894\n",
      "rmse_dev: 233.2550473519203\n",
      "r2_train: 0.9905685065371148\n",
      "r2_dev: 0.9536391604152215\n"
     ]
    }
   ],
   "source": [
    "# 数据集划分，10折交叉验证\n",
    "maes_train = []\n",
    "maes_dev = []\n",
    "rmses_train = []\n",
    "rmses_dev = []\n",
    "r2s_train = []\n",
    "r2s_dev = []\n",
    "\n",
    "# 实例化KFold，划分为10块，打乱数据集，random_state相同时，生成的数据集一致\n",
    "kf = KFold(n_splits=10,shuffle=True,random_state=0)\n",
    "\n",
    "# 重复n_repeats次交叉验证\n",
    "# kf = RepeatedKFold(n_splits=10,n_repeats=10)\n",
    "\n",
    "# kf.split(): 返回划分后的数据集的索引\n",
    "for (train_index,dev_index) in kf.split(train_dev_data_impute):\n",
    "    X_train,X_dev = train_dev_X[train_index],train_dev_X[dev_index]\n",
    "    y_train,y_dev = train_dev_y[train_index],train_dev_y[dev_index]\n",
    "    \n",
    "    # 使用上文的MLP模型进行训练\n",
    "    model_mlp.fit(X_train,y_train)\n",
    "\n",
    "    # 预测\n",
    "    pre_train = model_mlp.predict(X_train)\n",
    "    pre_dev = model_mlp.predict(X_dev)\n",
    "    #计算mae\n",
    "    mae_train = abs(pre_train-y_train).mean()\n",
    "    mae_dev = abs(pre_dev-y_dev).mean()\n",
    "    # 计算mse\n",
    "    rmse_train = np.sqrt(mean_squared_error(y_train,pre_train))\n",
    "    rmse_dev = np.sqrt(mean_squared_error(y_dev,pre_dev))\n",
    "\n",
    "    # 计算R squred\n",
    "    r2_train = r2_score(y_train,pre_train)\n",
    "    r2_dev = r2_score(y_dev,pre_dev)\n",
    "    \n",
    "    maes_train.append(mae_train)\n",
    "    maes_dev.append(mae_dev)\n",
    "    rmses_train.append(rmse_train)\n",
    "    rmses_dev.append(rmse_dev)\n",
    "    r2s_train.append(r2_train)\n",
    "    r2s_dev.append(r2_dev)\n",
    "\n",
    "print('mae_train:',np.mean(maes_train))\n",
    "print('mae_dev:',np.mean(maes_dev))\n",
    "print('rmse_train:',np.mean(rmses_train))\n",
    "print('rmse_dev:',np.mean(rmses_dev))\n",
    "print('r2_train:',np.mean(r2s_train))\n",
    "print('r2_dev:',np.mean(r2s_dev))"
   ]
  },
  {
   "cell_type": "code",
   "execution_count": null,
   "metadata": {},
   "outputs": [],
   "source": []
  }
 ],
 "metadata": {
  "kernelspec": {
   "display_name": "Python 3.7.13 ('base')",
   "language": "python",
   "name": "python3"
  },
  "language_info": {
   "codemirror_mode": {
    "name": "ipython",
    "version": 3
   },
   "file_extension": ".py",
   "mimetype": "text/x-python",
   "name": "python",
   "nbconvert_exporter": "python",
   "pygments_lexer": "ipython3",
   "version": "3.7.13"
  },
  "vscode": {
   "interpreter": {
    "hash": "19d1d53a962d236aa061289c2ac16dc8e6d9648c89fe79f459ae9a3493bc67b4"
   }
  }
 },
 "nbformat": 4,
 "nbformat_minor": 4
}
