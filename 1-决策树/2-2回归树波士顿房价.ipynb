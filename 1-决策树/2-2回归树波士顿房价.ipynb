{
 "cells": [
  {
   "cell_type": "code",
   "execution_count": 1,
   "metadata": {},
   "outputs": [],
   "source": [
    "from sklearn.datasets import load_boston\n",
    "boston=load_boston()"
   ]
  },
  {
   "cell_type": "code",
   "execution_count": 4,
   "metadata": {},
   "outputs": [],
   "source": [
    "from sklearn.model_selection import train_test_split\n",
    "import numpy as np\n",
    "X=boston.data\n",
    "y=boston.target\n",
    "X_train,X_test,y_train,y_test=train_test_split(X,y,random_state=33,test_size=0.25)"
   ]
  },
  {
   "cell_type": "code",
   "execution_count": 14,
   "metadata": {},
   "outputs": [
    {
     "data": {
      "text/plain": [
       "array([[5.40110e-01, 2.00000e+01, 3.97000e+00, ..., 1.30000e+01,\n",
       "        3.92800e+02, 9.59000e+00],\n",
       "       [8.38700e-02, 0.00000e+00, 1.28300e+01, ..., 1.87000e+01,\n",
       "        3.96060e+02, 9.10000e+00],\n",
       "       [1.43337e+01, 0.00000e+00, 1.81000e+01, ..., 2.02000e+01,\n",
       "        3.72920e+02, 3.06200e+01],\n",
       "       ...,\n",
       "       [4.56000e-02, 0.00000e+00, 1.38900e+01, ..., 1.64000e+01,\n",
       "        3.92800e+02, 1.35100e+01],\n",
       "       [5.29305e+00, 0.00000e+00, 1.81000e+01, ..., 2.02000e+01,\n",
       "        3.78380e+02, 1.87600e+01],\n",
       "       [1.25179e+00, 0.00000e+00, 8.14000e+00, ..., 2.10000e+01,\n",
       "        3.76570e+02, 2.10200e+01]])"
      ]
     },
     "execution_count": 14,
     "metadata": {},
     "output_type": "execute_result"
    }
   ],
   "source": [
    "X_train"
   ]
  },
  {
   "cell_type": "code",
   "execution_count": 8,
   "metadata": {},
   "outputs": [],
   "source": [
    "from sklearn.tree import DecisionTreeRegressor\n",
    "\n",
    "dtr=DecisionTreeRegressor()\n",
    "dtr.fit(X_train,y_train)\n",
    "dtr_y_predict=dtr.predict(X_test)"
   ]
  },
  {
   "cell_type": "code",
   "execution_count": 9,
   "metadata": {},
   "outputs": [
    {
     "data": {
      "text/plain": [
       "array([18.8,  8.3, 13.5, 13. , 22.8, 21.2, 26.6, 12.7, 32.2, 18.3, 24.5,\n",
       "       36.5, 11.8, 25. , 10.2, 25. , 14.2, 26.7, 29.1, 20.4, 19.1, 50. ,\n",
       "       23.1, 15.3, 33.1, 21.8, 20. , 23.1, 17.1, 33.2, 13.9, 27.5,  7.4,\n",
       "       21.2, 30.8, 33.4, 25.2,  9.7, 50. , 23.7, 13.1, 14.5, 33.2, 14.5,\n",
       "       24.8, 19.5, 23.2, 22.4, 28. , 21.2, 15.1, 34.9,  7. , 13.5, 22.9,\n",
       "       21.2, 24.7, 11. , 19.6, 21.2, 19.8, 15.1, 48.5, 19.3, 17.1, 20.7,\n",
       "       25.1, 17.9, 23.2, 29.1, 19.5, 13.1, 19.1, 23.6, 18.4, 50. , 13.1,\n",
       "        7.4, 15.6, 25. , 23.1, 14.4, 10.2, 24.5, 20.6, 19.2, 50. , 14.6,\n",
       "       42.8, 33.1, 33.2, 14.5, 21.7, 16.1, 11.7, 34.9, 19.6, 23.8, 19.5,\n",
       "       18.4, 15.6, 20.1, 29.4, 22. ,  8.3,  7. ,  8.3, 22.9, 11.8, 28. ,\n",
       "       50. , 12.8, 13.1, 25. , 33.4, 25. , 20.6, 23.1, 23.6, 16.1, 26.7,\n",
       "       19.1, 10.4, 20. , 21.2, 17.4, 50. ])"
      ]
     },
     "execution_count": 9,
     "metadata": {},
     "output_type": "execute_result"
    }
   ],
   "source": [
    "dtr_y_predict"
   ]
  }
 ],
 "metadata": {
  "interpreter": {
   "hash": "a8f61be024eba58adef938c9aa1e29e02cb3dece83a5348b1a2dafd16a070453"
  },
  "kernelspec": {
   "display_name": "Python 3.9.7 ('base')",
   "language": "python",
   "name": "python3"
  },
  "language_info": {
   "codemirror_mode": {
    "name": "ipython",
    "version": 3
   },
   "file_extension": ".py",
   "mimetype": "text/x-python",
   "name": "python",
   "nbconvert_exporter": "python",
   "pygments_lexer": "ipython3",
   "version": "3.9.7"
  },
  "orig_nbformat": 4
 },
 "nbformat": 4,
 "nbformat_minor": 2
}
